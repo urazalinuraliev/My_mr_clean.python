{
  "nbformat": 4,
  "nbformat_minor": 0,
  "metadata": {
    "colab": {
      "name": "OOP.VAZIFA",
      "provenance": [],
      "collapsed_sections": [],
      "authorship_tag": "ABX9TyPu+81/A6GIUySm96PX+pTB",
      "include_colab_link": true
    },
    "kernelspec": {
      "name": "python3",
      "display_name": "Python 3"
    },
    "language_info": {
      "name": "python"
    }
  },
  "cells": [
    {
      "cell_type": "markdown",
      "metadata": {
        "id": "view-in-github",
        "colab_type": "text"
      },
      "source": [
        "<a href=\"https://colab.research.google.com/github/urazalinuraliev/My_mr_clean.python/blob/main/main.ipynb\" target=\"_parent\"><img src=\"https://colab.research.google.com/assets/colab-badge.svg\" alt=\"Open In Colab\"/></a>"
      ]
    },
    {
      "cell_type": "code",
      "execution_count": null,
      "metadata": {
        "id": "D9xRsz2Z0-Po"
      },
      "outputs": [],
      "source": [
        "import requests\n",
        "import re # module for reguler expressions\n",
        "import pandas as pd \n",
        "import matplotlib.pyplot as plt\n",
        "import bs4 as BeautifulSoup \n",
        "import seaborn as sns\n",
        "\n"
      ]
    },
    {
      "cell_type": "code",
      "source": [
        "url = (\"https://en.wikipedia.org/w/api.php\")\n",
        "dat = requests.get(url, params= {\"action\":\"query\", \"prop\":\"extracts\", \"titles\":\"Ozone_layer\", \"format\":\"json\"})\n",
        "data = dat.json()\n",
        "data"
      ],
      "metadata": {
        "id": "ltjiv2YHizzr"
      },
      "execution_count": null,
      "outputs": []
    },
    {
      "cell_type": "code",
      "source": [
        "my_data = data[\"query\"]['pages']['22834']['extract']"
      ],
      "metadata": {
        "id": "Ehcq-sr-kSa5"
      },
      "execution_count": null,
      "outputs": []
    },
    {
      "cell_type": "code",
      "source": [
        "def cleanhtml(raw_html):\n",
        "  html = re.compile('<.*?>') # compile() funksiyasi belgilangan manbani kod obyekti sifatida qaytaradi, bajarishga tayyor qilip beradi\n",
        "  clean = re.sub(html,'', raw_html)\n",
        "  return clean"
      ],
      "metadata": {
        "id": "1N2d1F8isk2D"
      },
      "execution_count": null,
      "outputs": []
    },
    {
      "cell_type": "code",
      "source": [
        "no_html_text = cleanhtml(my_data)\n",
        "no_html_text \n"
      ],
      "metadata": {
        "id": "pGkQ_NBCu_Ii"
      },
      "execution_count": null,
      "outputs": []
    },
    {
      "cell_type": "code",
      "source": [
        "def merge_contents(data):\n",
        "  splitted_text = re.split(\"\\. |, |\\.|\\n| |-|\\'\", data)\n",
        "  \n",
        "  return splitted_text \n",
        "merge_content = merge_contents(no_html_text)\n",
        "merge_content"
      ],
      "metadata": {
        "id": "hYVJTbRHvOdv"
      },
      "execution_count": null,
      "outputs": []
    },
    {
      "cell_type": "code",
      "source": [
        "def tokenize(content):\n",
        "  special_char_removed = [word for  word in content if word.isalnum()]      # !@#$%^&*()_, \n",
        "\n",
        "  num_removed = [word for word in special_char_removed if not word.isdigit()] # Demak, agar satr o'nlik belgilar bilan birga ushbu belgilarni o'z ichiga olsa, isdigit()qaytaradiTo'g'ri.\n",
        "  return num_removed\n",
        "collection = tokenize(merge_content)\n",
        "collection"
      ],
      "metadata": {
        "id": "DE_PxeF7Clfy"
      },
      "execution_count": null,
      "outputs": []
    },
    {
      "cell_type": "code",
      "source": [
        "def lower_collection(collection):\n",
        "    return [word.lower() for word in collection] \n",
        "\n",
        "plain_text = lower_collection(collection)\n"
      ],
      "metadata": {
        "id": "Y3FqaD1kFwMG"
      },
      "execution_count": null,
      "outputs": []
    },
    {
      "cell_type": "code",
      "source": [
        "def count_frequency(collection):\n",
        "  frequency = {}\n",
        "  for word in collection:\n",
        "      if word in frequency:\n",
        "          frequency[word] += 1\n",
        "      else :\n",
        "          frequency[word] = 1\n",
        "  return frequency \n",
        "freq_of_words = count_frequency(plain_text)"
      ],
      "metadata": {
        "id": "m46vBxGGGfeP"
      },
      "execution_count": null,
      "outputs": []
    },
    {
      "cell_type": "code",
      "source": [
        "freq_of_words = {k:v for k,v in sorted(freq_of_words.items(), key=lambda item: item[1], reverse=True)} # lug'atni tushunish. dictionary comperhension.\n",
        "  "
      ],
      "metadata": {
        "id": "0cOmFTO-YbBp"
      },
      "execution_count": null,
      "outputs": []
    },
    {
      "cell_type": "code",
      "source": [
        "xx = [v for k,v in freq_of_words.items()]\n",
        "yy = [k for k,v in freq_of_words.items()]\n",
        "sns.barplot(x=xx[0:20], y=yy[0:20])"
      ],
      "metadata": {
        "colab": {
          "base_uri": "https://localhost:8080/",
          "height": 282
        },
        "id": "gaQQWxw5cm5H",
        "outputId": "32826205-11c2-4de6-ddff-b0125c0552c4"
      },
      "execution_count": null,
      "outputs": [
        {
          "output_type": "execute_result",
          "data": {
            "text/plain": [
              "<matplotlib.axes._subplots.AxesSubplot at 0x7f582a0b3590>"
            ]
          },
          "metadata": {},
          "execution_count": 11
        },
        {
          "output_type": "display_data",
          "data": {
            "text/plain": [
              "<Figure size 432x288 with 1 Axes>"
            ],
            "image/png": "[encoded data removed]"
          },
          "metadata": {
            "needs_background": "light"
          }
        }
      ]
    },
    {
      "cell_type": "code",
      "source": [
        "stop_words = ['the', 'of', 'and', 'in', 'to', 'is', 'a', 'an',\n",
        "              'by', 'that', 'for', 'was', 'were', 'are', 'from',\n",
        "              'at', 'it', 'as', 'be', 'these', 'on', 'with', 'this',\n",
        "              'have', 'has', 'other', 'because', 'can', 'its', 'out', 'about',\n",
        "              'into', 'or', 'over', 'all', 'most', 'which', 'less', 'while', 'above', 'than', 's', 'a', 'b']"
      ],
      "metadata": {
        "id": "DjzlfpQpfAg_"
      },
      "execution_count": null,
      "outputs": []
    },
    {
      "cell_type": "code",
      "source": [
        "meanigful_text = [word for word in plain_text if word not in stop_words]  "
      ],
      "metadata": {
        "id": "br0M9iYugN4O"
      },
      "execution_count": null,
      "outputs": []
    },
    {
      "cell_type": "code",
      "source": [
        "freq_of_meaningful_words = count_frequency(meanigful_text)\n",
        "freq_of_meaningful_words = {k:v for k,v in sorted(freq_of_meaningful_words.items(), \n",
        "                                                  key=lambda item: item[1], \n",
        "                                                  reverse=True)} "
      ],
      "metadata": {
        "id": "QFYFHnZjlV1l"
      },
      "execution_count": null,
      "outputs": []
    },
    {
      "cell_type": "code",
      "source": [
        "xxx = [v for k,v in freq_of_meaningful_words.items()]\n",
        "yyy = [k for k,v in freq_of_meaningful_words.items()]\n",
        "sns.barplot(x=xxx[0:20], y=yyy[0:20])"
      ],
      "metadata": {
        "colab": {
          "base_uri": "https://localhost:8080/",
          "height": 282
        },
        "id": "A-5XZIsYl-JW",
        "outputId": "d2a4cd88-85b6-4634-96e2-8aca90c5619f"
      },
      "execution_count": null,
      "outputs": [
        {
          "output_type": "execute_result",
          "data": {
            "text/plain": [
              "<matplotlib.axes._subplots.AxesSubplot at 0x7f582a0aabd0>"
            ]
          },
          "metadata": {},
          "execution_count": 15
        },
        {
          "output_type": "display_data",
          "data": {
            "text/plain": [
              "<Figure size 432x288 with 1 Axes>"
            ],
            "image/png": "[encoded data removed]"
          },
          "metadata": {
            "needs_background": "light"
          }
        }
      ]
    },
    {
      "cell_type": "code",
      "source": [
        ""
      ],
      "metadata": {
        "id": "jk3_vUDboIT4"
      },
      "execution_count": null,
      "outputs": []
    }
  ]
}